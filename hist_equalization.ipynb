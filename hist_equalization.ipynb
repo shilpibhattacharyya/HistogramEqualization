{
 "cells": [
  {
   "cell_type": "code",
   "execution_count": 4,
   "metadata": {},
   "outputs": [],
   "source": [
    "# !pip install opencv-python\n"
   ]
  },
  {
   "cell_type": "code",
   "execution_count": 15,
   "metadata": {},
   "outputs": [],
   "source": [
    "import os\n",
    "import sys\n",
    "import cv2\n",
    "import numpy as np"
   ]
  },
  {
   "cell_type": "code",
   "execution_count": 16,
   "metadata": {},
   "outputs": [
    {
     "data": {
      "image/png": "[encoded data removed]",
      "text/plain": [
       "<Figure size 432x288 with 1 Axes>"
      ]
     },
     "metadata": {
      "needs_background": "light"
     },
     "output_type": "display_data"
    }
   ],
   "source": [
    "import cv2\n",
    "import numpy as np\n",
    "from matplotlib import pyplot as plt\n",
    "\n",
    "img = cv2.imread('IMG_0545.JPG',0)\n",
    "\n",
    "hist,bins = np.histogram(img.flatten(),256,[0,256])\n",
    "\n",
    "cdf = hist.cumsum()\n",
    "cdf_normalized = cdf * hist.max()/ cdf.max()\n",
    "\n",
    "#plt.plot(cdf_normalized, color = 'b')\n",
    "plt.hist(img.flatten(),256,[0,256], color = 'r')\n",
    "plt.xlim([0,256])\n",
    "#plt.legend(('cdf','histogram'), loc = 'upper left')\n",
    "plt.show()"
   ]
  },
  {
   "cell_type": "code",
   "execution_count": 21,
   "metadata": {},
   "outputs": [
    {
     "data": {
      "text/plain": [
       "-1"
      ]
     },
     "execution_count": 21,
     "metadata": {},
     "output_type": "execute_result"
    }
   ],
   "source": [
    "cv2.imshow('img',img)\n",
    "cv2.waitKey(5)"
   ]
  },
  {
   "cell_type": "code",
   "execution_count": 8,
   "metadata": {},
   "outputs": [
    {
     "data": {
      "text/plain": [
       "True"
      ]
     },
     "execution_count": 8,
     "metadata": {},
     "output_type": "execute_result"
    }
   ],
   "source": [
    "\n",
    "img_in = cv2.imread('IMG_0545.JPG')\n",
    "\n",
    "b,g,r = cv2.split(img_in)\n",
    "\n",
    "clahe = cv2.createCLAHE(clipLimit=2.0, tileGridSize=(7,7))\n",
    "\n",
    "cl1 = clahe.apply(b)\n",
    "cl2 = clahe.apply(g)\n",
    "cl3 = clahe.apply(r)\n",
    "\n",
    "img_out = cv2.merge((cl1, cl2, cl3))\n",
    "\n",
    "cv2.imwrite('res.png',img_out)\n"
   ]
  },
  {
   "cell_type": "code",
   "execution_count": 14,
   "metadata": {},
   "outputs": [
    {
     "data": {
      "text/plain": [
       "True"
      ]
     },
     "execution_count": 14,
     "metadata": {},
     "output_type": "execute_result"
    }
   ],
   "source": [
    "#bgr = cv2.imread('input11.jpeg',0)\n",
    "\n",
    "lab = cv2.imread('IMG_0545.JPG',0)#cv2.cvtColor(bgr, cv2.COLOR_BGR2LAB)\n",
    "\n",
    "#lab_planes = cv2.split(lab)\n",
    "\n",
    "clahe = cv2.createCLAHE(clipLimit=2.0,tileGridSize=(8,8))\n",
    "\n",
    "lab = clahe.apply(lab)\n",
    "\n",
    "b,g,r = cv2.split(img_in)\n",
    "h_b, bin_b = np.histogram(b.flatten(), 256, [0, 256])\n",
    "h_g, bin_g = np.histogram(g.flatten(), 256, [0, 256])\n",
    "h_r, bin_r = np.histogram(r.flatten(), 256, [0, 256])\n",
    "\n",
    "cdf_b = np.cumsum(h_b)  \n",
    "cdf_g = np.cumsum(h_g)\n",
    "cdf_r = np.cumsum(h_r)\n",
    "\n",
    "\n",
    "cdf_m_b = np.ma.masked_equal(cdf_b,0)\n",
    "cdf_m_b = (cdf_m_b - cdf_m_b.min())*255/(cdf_m_b.max()-cdf_m_b.min())\n",
    "cdf_final_b = np.ma.filled(cdf_m_b,0).astype('uint8')\n",
    "\n",
    "cdf_m_g = np.ma.masked_equal(cdf_g,0)\n",
    "cdf_m_g = (cdf_m_g - cdf_m_g.min())*255/(cdf_m_g.max()-cdf_m_g.min())\n",
    "cdf_final_g = np.ma.filled(cdf_m_g,0).astype('uint8')\n",
    "\n",
    "cdf_m_r = np.ma.masked_equal(cdf_r,0)\n",
    "cdf_m_r = (cdf_m_r - cdf_m_r.min())*255/(cdf_m_r.max()-cdf_m_r.min())\n",
    "cdf_final_r = np.ma.filled(cdf_m_r,0).astype('uint8')\n",
    "\n",
    "img_b = cdf_final_b[b]\n",
    "img_g = cdf_final_g[g]\n",
    "img_r = cdf_final_r[r]\n",
    "\n",
    "\n",
    "\n",
    "#print(img_b)\n",
    "#print(img_g)\n",
    "#print(img_r)\n",
    "\n",
    "img_out = cv2.merge((img_b, img_g, img_r))\n",
    "\n",
    "cv2.imwrite('res11.png',lab)"
   ]
  },
  {
   "cell_type": "code",
   "execution_count": 13,
   "metadata": {},
   "outputs": [
    {
     "ename": "ValueError",
     "evalue": "all the input arrays must have same number of dimensions, but the array at index 0 has 2 dimension(s) and the array at index 1 has 1 dimension(s)",
     "output_type": "error",
     "traceback": [
      "\u001b[0;31m---------------------------------------------------------------------------\u001b[0m",
      "\u001b[0;31mValueError\u001b[0m                                Traceback (most recent call last)",
      "\u001b[0;32m<ipython-input-13-a1dbc2dc3277>\u001b[0m in \u001b[0;36m<module>\u001b[0;34m\u001b[0m\n\u001b[1;32m      2\u001b[0m \u001b[0;34m\u001b[0m\u001b[0m\n\u001b[1;32m      3\u001b[0m \u001b[0mequ\u001b[0m \u001b[0;34m=\u001b[0m \u001b[0mhistogram_equalization\u001b[0m\u001b[0;34m(\u001b[0m\u001b[0mimg_in\u001b[0m\u001b[0;34m)\u001b[0m\u001b[0;34m\u001b[0m\u001b[0;34m\u001b[0m\u001b[0m\n\u001b[0;32m----> 4\u001b[0;31m \u001b[0mres\u001b[0m \u001b[0;34m=\u001b[0m \u001b[0mnp\u001b[0m\u001b[0;34m.\u001b[0m\u001b[0mhstack\u001b[0m\u001b[0;34m(\u001b[0m\u001b[0;34m(\u001b[0m\u001b[0mimg\u001b[0m\u001b[0;34m,\u001b[0m\u001b[0mequ\u001b[0m\u001b[0;34m)\u001b[0m\u001b[0;34m)\u001b[0m \u001b[0;31m#stacking images side-by-side\u001b[0m\u001b[0;34m\u001b[0m\u001b[0;34m\u001b[0m\u001b[0m\n\u001b[0m\u001b[1;32m      5\u001b[0m \u001b[0mcv2\u001b[0m\u001b[0;34m.\u001b[0m\u001b[0mimwrite\u001b[0m\u001b[0;34m(\u001b[0m\u001b[0;34m'res_out.png'\u001b[0m\u001b[0;34m,\u001b[0m\u001b[0mres\u001b[0m\u001b[0;34m)\u001b[0m\u001b[0;34m\u001b[0m\u001b[0;34m\u001b[0m\u001b[0m\n",
      "\u001b[0;32m<__array_function__ internals>\u001b[0m in \u001b[0;36mhstack\u001b[0;34m(*args, **kwargs)\u001b[0m\n",
      "\u001b[0;32m~/Library/Python/3.7/lib/python/site-packages/numpy/core/shape_base.py\u001b[0m in \u001b[0;36mhstack\u001b[0;34m(tup)\u001b[0m\n\u001b[1;32m    342\u001b[0m         \u001b[0;32mreturn\u001b[0m \u001b[0m_nx\u001b[0m\u001b[0;34m.\u001b[0m\u001b[0mconcatenate\u001b[0m\u001b[0;34m(\u001b[0m\u001b[0marrs\u001b[0m\u001b[0;34m,\u001b[0m \u001b[0;36m0\u001b[0m\u001b[0;34m)\u001b[0m\u001b[0;34m\u001b[0m\u001b[0;34m\u001b[0m\u001b[0m\n\u001b[1;32m    343\u001b[0m     \u001b[0;32melse\u001b[0m\u001b[0;34m:\u001b[0m\u001b[0;34m\u001b[0m\u001b[0;34m\u001b[0m\u001b[0m\n\u001b[0;32m--> 344\u001b[0;31m         \u001b[0;32mreturn\u001b[0m \u001b[0m_nx\u001b[0m\u001b[0;34m.\u001b[0m\u001b[0mconcatenate\u001b[0m\u001b[0;34m(\u001b[0m\u001b[0marrs\u001b[0m\u001b[0;34m,\u001b[0m \u001b[0;36m1\u001b[0m\u001b[0;34m)\u001b[0m\u001b[0;34m\u001b[0m\u001b[0;34m\u001b[0m\u001b[0m\n\u001b[0m\u001b[1;32m    345\u001b[0m \u001b[0;34m\u001b[0m\u001b[0m\n\u001b[1;32m    346\u001b[0m \u001b[0;34m\u001b[0m\u001b[0m\n",
      "\u001b[0;32m<__array_function__ internals>\u001b[0m in \u001b[0;36mconcatenate\u001b[0;34m(*args, **kwargs)\u001b[0m\n",
      "\u001b[0;31mValueError\u001b[0m: all the input arrays must have same number of dimensions, but the array at index 0 has 2 dimension(s) and the array at index 1 has 1 dimension(s)"
     ]
    }
   ],
   "source": [
    "img_in = cv2.imread('IMG_0545.JPG')\n",
    "\n",
    "equ = histogram_equalization(img_in)\n",
    "res = np.hstack((img,equ)) #stacking images side-by-side\n",
    "cv2.imwrite('res_out.png',res)"
   ]
  },
  {
   "cell_type": "code",
   "execution_count": 10,
   "metadata": {},
   "outputs": [],
   "source": [
    "def histogram_equalization(img_in):\n",
    "\n",
    "    # Write histogram equalization here\n",
    "    b,g,r = cv2.split(img_in)\n",
    "#     h_b, bin_b = np.histogram(b.flatten(), 256, [0, 256])\n",
    "#     h_g, bin_g = np.histogram(g.flatten(), 256, [0, 256])\n",
    "#     h_r, bin_r = np.histogram(r.flatten(), 256, [0, 256])\n",
    "    \n",
    "#     cdf_b = np.cumsum(h_b)  \n",
    "#     cdf_g = np.cumsum(h_g)\n",
    "#     cdf_r = np.cumsum(h_r)\n",
    "    \n",
    "   \n",
    "#     cdf_m_b = np.ma.masked_equal(cdf_b,0)\n",
    "#     cdf_m_b = (cdf_m_b - cdf_m_b.min())*255/(cdf_m_b.max()-cdf_m_b.min())\n",
    "#     cdf_final_b = np.ma.filled(cdf_m_b,0).astype('uint8')\n",
    "  \n",
    "#     cdf_m_g = np.ma.masked_equal(cdf_g,0)\n",
    "#     cdf_m_g = (cdf_m_g - cdf_m_g.min())*255/(cdf_m_g.max()-cdf_m_g.min())\n",
    "#     cdf_final_g = np.ma.filled(cdf_m_g,0).astype('uint8')\n",
    "\n",
    "#     cdf_m_r = np.ma.masked_equal(cdf_r,0)\n",
    "#     cdf_m_r = (cdf_m_r - cdf_m_r.min())*255/(cdf_m_r.max()-cdf_m_r.min())\n",
    "#     cdf_final_r = np.ma.filled(cdf_m_r,0).astype('uint8')\n",
    "\n",
    "#     img_b = cdf_final_b[b]\n",
    "#     img_g = cdf_final_g[g]\n",
    "#     img_r = cdf_final_r[r]\n",
    "  \n",
    "#     #print(img_b)\n",
    "#     #print(img_g)\n",
    "#     #print(img_r)\n",
    " \n",
    "#     img_out = cv2.merge((img_b, img_g, img_r))\n",
    "    #print(img_out)\n",
    "    #print(\"hist\") \n",
    "\n",
    "\n",
    "    ##validation\n",
    "    equ_b = cv2.equalizeHist(b)\n",
    "    equ_g = cv2.equalizeHist(g)\n",
    "    equ_r = cv2.equalizeHist(r)\n",
    "    img_out = cv2.merge((equ_b, equ_g, equ_r))\n",
    "    #print(equ)\n",
    "    #cv2.imwrite('output_name.png', equ)\n",
    "\n",
    "    return True, img_out"
   ]
  },
  {
   "cell_type": "code",
   "execution_count": null,
   "metadata": {},
   "outputs": [],
   "source": []
  }
 ],
 "metadata": {
  "kernelspec": {
   "display_name": "Python 3",
   "language": "python",
   "name": "python3"
  },
  "language_info": {
   "codemirror_mode": {
    "name": "ipython",
    "version": 3
   },
   "file_extension": ".py",
   "mimetype": "text/x-python",
   "name": "python",
   "nbconvert_exporter": "python",
   "pygments_lexer": "ipython3",
   "version": "3.7.5"
  }
 },
 "nbformat": 4,
 "nbformat_minor": 2
}
