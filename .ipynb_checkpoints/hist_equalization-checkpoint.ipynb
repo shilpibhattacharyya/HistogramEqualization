{
 "cells": [
  {
   "cell_type": "code",
   "execution_count": 2,
   "metadata": {},
   "outputs": [],
   "source": [
    "import os\n",
    "import sys\n",
    "import cv2\n",
    "import numpy as np"
   ]
  },
  {
   "cell_type": "code",
   "execution_count": 2,
   "metadata": {},
   "outputs": [
    {
     "name": "stdout",
     "output_type": "stream",
     "text": [
      "Requirement already satisfied: opencv-python in /usr/local/lib/python3.7/site-packages (4.1.1.26)\n",
      "Requirement already satisfied: numpy>=1.14.5 in /Users/shilpibhattacharyya/Library/Python/3.7/lib/python/site-packages (from opencv-python) (1.17.4)\n",
      "Note: you may need to restart the kernel to use updated packages.\n"
     ]
    }
   ],
   "source": [
    "pip install opencv-python\n"
   ]
  },
  {
   "cell_type": "code",
   "execution_count": 4,
   "metadata": {},
   "outputs": [
    {
     "data": {
      "image/png": "[encoded data removed]",
      "text/plain": [
       "<Figure size 432x288 with 1 Axes>"
      ]
     },
     "metadata": {
      "needs_background": "light"
     },
     "output_type": "display_data"
    }
   ],
   "source": [
    "import cv2\n",
    "import numpy as np\n",
    "from matplotlib import pyplot as plt\n",
    "\n",
    "img = cv2.imread('IMG_0545.JPG',0)\n",
    "\n",
    "hist,bins = np.histogram(img.flatten(),256,[0,256])\n",
    "\n",
    "cdf = hist.cumsum()\n",
    "cdf_normalized = cdf * hist.max()/ cdf.max()\n",
    "\n",
    "#plt.plot(cdf_normalized, color = 'b')\n",
    "plt.hist(img.flatten(),256,[0,256], color = 'r')\n",
    "plt.xlim([0,256])\n",
    "#plt.legend(('cdf','histogram'), loc = 'upper left')\n",
    "plt.show()"
   ]
  },
  {
   "cell_type": "code",
   "execution_count": 5,
   "metadata": {},
   "outputs": [
    {
     "data": {
      "text/plain": [
       "True"
      ]
     },
     "execution_count": 5,
     "metadata": {},
     "output_type": "execute_result"
    }
   ],
   "source": [
    "import numpy as np\n",
    "import cv2\n",
    "\n",
    "img_in = cv2.imread('IMG_0545.JPG')\n",
    "\n",
    "b,g,r = cv2.split(img_in)\n",
    "\n",
    "clahe = cv2.createCLAHE(clipLimit=2.0, tileGridSize=(7,7))\n",
    "\n",
    "cl1 = clahe.apply(b)\n",
    "cl2 = clahe.apply(g)\n",
    "cl3 = clahe.apply(r)\n",
    "\n",
    "img_out = cv2.merge((cl1, cl2, cl3))\n",
    "\n",
    "cv2.imwrite('res.png',img_out)\n",
    "\n",
    "\n"
   ]
  },
  {
   "cell_type": "code",
   "execution_count": 7,
   "metadata": {},
   "outputs": [
    {
     "data": {
      "text/plain": [
       "True"
      ]
     },
     "execution_count": 7,
     "metadata": {},
     "output_type": "execute_result"
    }
   ],
   "source": [
    "#bgr = cv2.imread('input11.jpeg',0)\n",
    "\n",
    "lab = cv2.imread('IMG_0545.JPG',0)#cv2.cvtColor(bgr, cv2.COLOR_BGR2LAB)\n",
    "\n",
    "#lab_planes = cv2.split(lab)\n",
    "\n",
    "clahe = cv2.createCLAHE(clipLimit=2.0,tileGridSize=(8,8))\n",
    "\n",
    "lab = clahe.apply(lab)\n",
    "\n",
    "b,g,r = cv2.split(img_in)\n",
    "h_b, bin_b = np.histogram(b.flatten(), 256, [0, 256])\n",
    "h_g, bin_g = np.histogram(g.flatten(), 256, [0, 256])\n",
    "h_r, bin_r = np.histogram(r.flatten(), 256, [0, 256])\n",
    "\n",
    "cdf_b = np.cumsum(h_b)  \n",
    "cdf_g = np.cumsum(h_g)\n",
    "cdf_r = np.cumsum(h_r)\n",
    "\n",
    "\n",
    "cdf_m_b = np.ma.masked_equal(cdf_b,0)\n",
    "cdf_m_b = (cdf_m_b - cdf_m_b.min())*255/(cdf_m_b.max()-cdf_m_b.min())\n",
    "cdf_final_b = np.ma.filled(cdf_m_b,0).astype('uint8')\n",
    "\n",
    "cdf_m_g = np.ma.masked_equal(cdf_g,0)\n",
    "cdf_m_g = (cdf_m_g - cdf_m_g.min())*255/(cdf_m_g.max()-cdf_m_g.min())\n",
    "cdf_final_g = np.ma.filled(cdf_m_g,0).astype('uint8')\n",
    "\n",
    "cdf_m_r = np.ma.masked_equal(cdf_r,0)\n",
    "cdf_m_r = (cdf_m_r - cdf_m_r.min())*255/(cdf_m_r.max()-cdf_m_r.min())\n",
    "cdf_final_r = np.ma.filled(cdf_m_r,0).astype('uint8')\n",
    "\n",
    "img_b = cdf_final_b[b]\n",
    "img_g = cdf_final_g[g]\n",
    "img_r = cdf_final_r[r]\n",
    "\n",
    "\n",
    "\n",
    "#print(img_b)\n",
    "#print(img_g)\n",
    "#print(img_r)\n",
    "\n",
    "img_out = cv2.merge((img_b, img_g, img_r))\n",
    "\n",
    "cv2.imwrite('res11.png',lab)"
   ]
  },
  {
   "cell_type": "code",
   "execution_count": 3,
   "metadata": {},
   "outputs": [
    {
     "data": {
      "text/plain": [
       "True"
      ]
     },
     "execution_count": 3,
     "metadata": {},
     "output_type": "execute_result"
    }
   ],
   "source": [
    "img = cv2.imread('IMG_0545.JPG',0)\n",
    "equ = cv2.imread('output_name.png',0)\n",
    "res = np.hstack((img,equ)) #stacking images side-by-side\n",
    "cv2.imwrite('res_out.png',res)"
   ]
  },
  {
   "cell_type": "code",
   "execution_count": 2,
   "metadata": {},
   "outputs": [],
   "source": [
    "def help_message():\n",
    "    print(\"Usage: [Question_Number] [Input_Options] [Output_Options]\")\n",
    "    print(\"[Question Number]\")\n",
    "    print(\"1 Histogram equalization\")\n",
    "    print(\"2 Frequency domain filtering\")\n",
    "    print(\"3 Laplacian pyramid blending\")\n",
    "    print(\"[Input_Options]\")\n",
    "    print(\"Path to the input images\")\n",
    "    print(\"[Output_Options]\")\n",
    "    print(\"Output directory\")\n",
    "    print(\"Example usages:\")\n",
    "    print(sys.argv[0] + \" 1 \" + \"[path to input image] \" +\n",
    "          \"[output directory]\")  # Single input, single output\n",
    "    print(sys.argv[0] + \" 2 \" + \"[path to input image1] \" +\n",
    "          \"[path to input image2] \" +\n",
    "          \"[output directory]\")  # Two inputs, three outputs\n",
    "    print(sys.argv[0] + \" 3 \" + \"[path to input image1] \" +\n",
    "          \"[path to input image2] \" +\n",
    "          \"[output directory]\")  # Two inputs, single output\n",
    "\n",
    "\n",
    "# ===================================================\n",
    "# ======== Question 1: Histogram equalization =======\n",
    "# ===================================================\n"
   ]
  },
  {
   "cell_type": "code",
   "execution_count": 3,
   "metadata": {},
   "outputs": [],
   "source": [
    "def histogram_equalization(img_in):\n",
    "\n",
    "    # Write histogram equalization here\n",
    "    b,g,r = cv2.split(img_in)\n",
    "#     h_b, bin_b = np.histogram(b.flatten(), 256, [0, 256])\n",
    "#     h_g, bin_g = np.histogram(g.flatten(), 256, [0, 256])\n",
    "#     h_r, bin_r = np.histogram(r.flatten(), 256, [0, 256])\n",
    "    \n",
    "#     cdf_b = np.cumsum(h_b)  \n",
    "#     cdf_g = np.cumsum(h_g)\n",
    "#     cdf_r = np.cumsum(h_r)\n",
    "    \n",
    "   \n",
    "#     cdf_m_b = np.ma.masked_equal(cdf_b,0)\n",
    "#     cdf_m_b = (cdf_m_b - cdf_m_b.min())*255/(cdf_m_b.max()-cdf_m_b.min())\n",
    "#     cdf_final_b = np.ma.filled(cdf_m_b,0).astype('uint8')\n",
    "  \n",
    "#     cdf_m_g = np.ma.masked_equal(cdf_g,0)\n",
    "#     cdf_m_g = (cdf_m_g - cdf_m_g.min())*255/(cdf_m_g.max()-cdf_m_g.min())\n",
    "#     cdf_final_g = np.ma.filled(cdf_m_g,0).astype('uint8')\n",
    "\n",
    "#     cdf_m_r = np.ma.masked_equal(cdf_r,0)\n",
    "#     cdf_m_r = (cdf_m_r - cdf_m_r.min())*255/(cdf_m_r.max()-cdf_m_r.min())\n",
    "#     cdf_final_r = np.ma.filled(cdf_m_r,0).astype('uint8')\n",
    "\n",
    "#     img_b = cdf_final_b[b]\n",
    "#     img_g = cdf_final_g[g]\n",
    "#     img_r = cdf_final_r[r]\n",
    "  \n",
    "#     #print(img_b)\n",
    "#     #print(img_g)\n",
    "#     #print(img_r)\n",
    " \n",
    "#     img_out = cv2.merge((img_b, img_g, img_r))\n",
    "    #print(img_out)\n",
    "    #print(\"hist\") \n",
    "\n",
    "\n",
    "    ##validation\n",
    "    equ_b = cv2.equalizeHist(b)\n",
    "    equ_g = cv2.equalizeHist(g)\n",
    "    equ_r = cv2.equalizeHist(r)\n",
    "    img_out = cv2.merge((equ_b, equ_g, equ_r))\n",
    "    #print(equ)\n",
    "    #cv2.imwrite('output_name.png', equ)\n",
    "\n",
    "    return True, img_out"
   ]
  },
  {
   "cell_type": "code",
   "execution_count": 16,
   "metadata": {},
   "outputs": [],
   "source": [
    "def Question1(inp,output):\n",
    "\n",
    "    # Read in input images\n",
    "    input_image = cv2.imread(inp, cv2.IMREAD_COLOR)\n",
    "\n",
    "    # Histogram equalization\n",
    "    succeed, output_image = histogram_equalization(input_image)\n",
    "\n",
    "    # Write out the result\n",
    "    output_name = output + \"output1.png\"\n",
    "    cv2.imwrite(output_name, output_image)\n",
    "\n",
    "    return True"
   ]
  },
  {
   "cell_type": "code",
   "execution_count": 5,
   "metadata": {},
   "outputs": [],
   "source": [
    "# ===================================================\n",
    "# ===== Question 2: Frequency domain filtering ======\n",
    "# ===================================================\n",
    "\n",
    "\n",
    "def high_pass_filter(img_in):\n",
    "\n",
    "    # Write low pass filter here\n",
    "    img_in = cv2.cvtColor(img_in, cv2.COLOR_BGR2GRAY)\n",
    "    dft = cv2.dft(np.float32(img_in),flags = cv2.DFT_COMPLEX_OUTPUT)\n",
    "    dft_shift = np.fft.fftshift(dft)\n",
    "\n",
    "\n",
    "    rows, cols = img_in.shape\n",
    "    crow,ccol = rows//2 , cols//2\n",
    "\n",
    "    dft_shift[crow-10:crow+10, ccol-10:ccol+10] = 0\n",
    "    dft_ishift = np.fft.ifftshift(dft_shift)\n",
    "\n",
    "\n",
    "    img_out = cv2.idft(dft_ishift)\n",
    "    img_out = cv2.magnitude(img_out[:,:,0],img_out[:,:,1])\n",
    "\n",
    "    img_out1 = np.ma.masked_equal(img_out,0)\n",
    "    img_out2 = (img_out1 - img_out1.min())*255/(img_out1.max()-img_out1.min())\n",
    "    img_out = np.ma.filled(img_out2,0).astype('uint8') \n",
    "    return True, img_out\n",
    "\n"
   ]
  },
  {
   "cell_type": "code",
   "execution_count": 6,
   "metadata": {},
   "outputs": [],
   "source": [
    "def low_pass_filter(img_in):\n",
    "    \n",
    "    img_in = cv2.cvtColor(img_in, cv2.COLOR_BGR2GRAY)\n",
    "    dft = cv2.dft(np.float32(img_in),flags = cv2.DFT_COMPLEX_OUTPUT)\n",
    "    dft_shift = np.fft.fftshift(dft)\n",
    "    #magnitude_spectrum = 20*np.log(cv2.magnitude(dft_shift[:,:,0],dft_shift[:,:,1]))\n",
    "    rows, cols = img_in.shape\n",
    "    crow,ccol = rows//2 , cols//2\n",
    "# create a mask first, center square is 1, remaining all zeros\n",
    "    mask = np.zeros((rows,cols,2),np.uint8)\n",
    "    mask[crow-10:crow+10, ccol-10:ccol+10] = 1\n",
    "# apply mask and inverse DFT\n",
    "    fshift = dft_shift*mask\n",
    "    f_ishift = np.fft.ifftshift(fshift)\n",
    "    img_out = cv2.idft(f_ishift)\n",
    "    img_out = cv2.magnitude(img_out[:,:,0],img_out[:,:,1])\n",
    "\n",
    "    img_out1 = np.ma.masked_equal(img_out,0)\n",
    "    img_out2 = (img_out1 - img_out1.min())*255/(img_out1.max()-img_out1.min())\n",
    "    img_out = np.ma.filled(img_out2,0).astype('uint8') \n",
    "\n",
    "    return True, img_out"
   ]
  },
  {
   "cell_type": "code",
   "execution_count": 7,
   "metadata": {},
   "outputs": [],
   "source": [
    "\n",
    "def deconvolution(img_in):\n",
    "    #img_in = cv2.cvtColor(img_in, cv2.COLOR_BGR2GRAY) \n",
    "    gk = cv2.getGaussianKernel(21,5)\n",
    "    gk = gk * gk.T\n",
    "\n",
    "    def ft(im, newsize=None):\n",
    "      dft = np.fft.fft2(np.float32(im),newsize)\n",
    "      return np.fft.fftshift(dft)\n",
    "\n",
    "    def ift(shift):\n",
    "      f_ishift = np.fft.ifftshift(shift)\n",
    "      img_back = np.fft.ifft2(f_ishift)\n",
    "      return np.abs(img_back)\n",
    "\n",
    "    imf = ft(img_in, (img_in.shape[0],img_in.shape[1])) # make sure sizes match\n",
    "    gkf = ft(gk, (img_in.shape[0],img_in.shape[1])) # so we can multiple easily\n",
    "    imconvf = imf/gkf\n",
    "\n",
    "# now for example we can reconstruct the blurred image from its FT\n",
    "    blurred = ift(imconvf)\n",
    "# # now for example we can reconstruct the blurred image from its FT\n",
    "\n",
    "    img_out = blurred  # Deconvolution result\n",
    "    img_out1 = np.ma.masked_equal(img_out,0)\n",
    "    img_out2 = (img_out1 - img_out1.min())*255/(img_out1.max()-img_out1.min())\n",
    "    img_out = np.ma.filled(img_out2,0).astype('uint8')\n",
    "    return True, img_out\n"
   ]
  },
  {
   "cell_type": "code",
   "execution_count": 8,
   "metadata": {},
   "outputs": [],
   "source": [
    "def Question2():\n",
    "\n",
    "    # Read in input images\n",
    "    input_image1 = cv2.imread(sys.argv[2], cv2.IMREAD_COLOR)\n",
    "    #input_image2 = cv2.imread(sys.argv[3], cv2.IMREAD_COLOR)\n",
    "    input_image2  = cv2.imread(sys.argv[3], cv2.IMREAD_ANYCOLOR | cv2.IMREAD_ANYDEPTH)\n",
    "\n",
    "    # Low and high pass filter\n",
    "    succeed1, output_image1 = low_pass_filter(input_image1)\n",
    "    succeed2, output_image2 = high_pass_filter(input_image1)\n",
    "\n",
    "    # Deconvolution\n",
    "    succeed3, output_image3 = deconvolution(input_image2)\n",
    "\n",
    "    # Write out the result\n",
    "    output_name1 = sys.argv[4] + \"output2LPF.png\"\n",
    "    output_name2 = sys.argv[4] + \"output2HPF.png\"\n",
    "    output_name3 = sys.argv[4] + \"output2deconv.png\"\n",
    "    cv2.imwrite(output_name1, output_image1)\n",
    "    cv2.imwrite(output_name2, output_image2)\n",
    "    cv2.imwrite(output_name3, output_image3)\n",
    "\n",
    "    return True"
   ]
  },
  {
   "cell_type": "code",
   "execution_count": 11,
   "metadata": {},
   "outputs": [],
   "source": [
    "# ===================================================\n",
    "# ===== Question 3: Laplacian pyramid blending ======\n",
    "# ===================================================\n",
    "\n",
    "\n",
    "def laplacian_pyramid_blending(img_in1, img_in2):\n",
    "    # generate Gaussian pyramid for A\n",
    "    A = img_in1.copy()\n",
    "    #A = cv2.cvtColor(A, cv2.COLOR_BGR2RGB)\n",
    "    A = A[:,:A.shape[0]]\n",
    "    \n",
    "    # generate Gaussian pyramid for B\n",
    "    B = img_in2.copy()\n",
    "    #B = cv2.cvtColor(B, cv2.COLOR_BGR2RGB)\n",
    "    B = B[:A.shape[0],:A.shape[0]]\n",
    "\n",
    "    gpA = [A]\n",
    "    for i in range(6):\n",
    "        A = cv2.pyrDown(gpA[i])\n",
    "        gpA.append(A)\n",
    "    # generate Gaussian pyramid for B\n",
    "    \n",
    "    gpB = [B]\n",
    "    for i in xrange(6):\n",
    "        B = cv2.pyrDown(gpB[i])\n",
    "        gpB.append(B)\n",
    "    # generate Laplacian Pyramid for A\n",
    "    lpA = [gpA[5]]\n",
    "    for i in xrange(5,0,-1):\n",
    "        size = (gpA[i-1].shape[1], gpA[i-1].shape[0])\n",
    "        GE = cv2.pyrUp(gpA[i], dstsize = size)\n",
    "        L = cv2.subtract(gpA[i-1],GE)\n",
    "        lpA.append(L)\n",
    "    # generate Laplacian Pyramid for B\n",
    "    lpB = [gpB[5]]\n",
    "    for i in xrange(5,0,-1):\n",
    "        size = (gpB[i-1].shape[1], gpB[i-1].shape[0])\n",
    "        GE = cv2.pyrUp(gpB[i], dstsize = size)\n",
    "        L = cv2.subtract(gpB[i-1],GE)\n",
    "        lpB.append(L)\n",
    "    # Now add left and right halves of images in each level\n",
    "    LS = []\n",
    "    for la,lb in zip(lpA,lpB):\n",
    "        rows,cols,dpt = la.shape\n",
    "        ls = np.hstack((la[:,0:cols/2], lb[:,cols/2:]))\n",
    "        LS.append(ls)\n",
    "    # now reconstruct\n",
    "    ls_ = LS[0]\n",
    "    for i in xrange(1,6):\n",
    "        size = (LS[i].shape[1], LS[i].shape[0])\n",
    "        ls_ = cv2.pyrUp(ls_, dstsize = size)\n",
    "        ls_ = cv2.add(ls_, LS[i])\n",
    "    # image with direct connecting each half\n",
    "    # Write laplacian pyramid blending codes here\n",
    "    img_out = ls_  # Blending result\n",
    "\n",
    "    return True, img_out\n",
    "\n",
    "\n"
   ]
  },
  {
   "cell_type": "code",
   "execution_count": 12,
   "metadata": {},
   "outputs": [],
   "source": [
    "def Question3():\n",
    "\n",
    "    # Read in input images\n",
    "    input_image1 = cv2.imread(sys.argv[2], cv2.IMREAD_COLOR)\n",
    "    input_image2 = cv2.imread(sys.argv[3], cv2.IMREAD_COLOR)\n",
    "\n",
    "    # Laplacian pyramid blending\n",
    "    succeed, output_image = laplacian_pyramid_blending(input_image1, input_image2)\n",
    "    # Write out the result\n",
    "    output_name = sys.argv[4] + \"output3.png\"\n",
    "    cv2.imwrite(output_name, output_image)\n",
    "\n",
    "    return True\n",
    "\n",
    "\n"
   ]
  },
  {
   "cell_type": "code",
   "execution_count": 14,
   "metadata": {},
   "outputs": [
    {
     "name": "stdout",
     "output_type": "stream",
     "text": [
      "Usage: [Question_Number] [Input_Options] [Output_Options]\n",
      "[Question Number]\n",
      "1 Histogram equalization\n",
      "2 Frequency domain filtering\n",
      "3 Laplacian pyramid blending\n",
      "[Input_Options]\n",
      "Path to the input images\n",
      "[Output_Options]\n",
      "Output directory\n",
      "Example usages:\n",
      "/usr/local/lib/python3.7/site-packages/ipykernel_launcher.py 1 [path to input image] [output directory]\n",
      "/usr/local/lib/python3.7/site-packages/ipykernel_launcher.py 2 [path to input image1] [path to input image2] [output directory]\n",
      "/usr/local/lib/python3.7/site-packages/ipykernel_launcher.py 3 [path to input image1] [path to input image2] [output directory]\n"
     ]
    },
    {
     "ename": "SystemExit",
     "evalue": "",
     "output_type": "error",
     "traceback": [
      "An exception has occurred, use %tb to see the full traceback.\n",
      "\u001b[0;31mSystemExit\u001b[0m\n"
     ]
    }
   ],
   "source": [
    "if __name__ == '__main__':\n",
    "    question_number = -1\n",
    "\n",
    "    # Validate the input arguments\n",
    "    if (len(sys.argv) < 4):\n",
    "        help_message()\n",
    "        sys.exit()\n",
    "    else:\n",
    "        question_number = int(sys.argv[1])\n",
    "\n",
    "        if (question_number == 1 and not (len(sys.argv) == 4)):\n",
    "            help_message()\n",
    "            sys.exit()\n",
    "        if (question_number == 2 and not (len(sys.argv) == 5)):\n",
    "            help_message()\n",
    "            sys.exit()\n",
    "        if (question_number == 3 and not (len(sys.argv) == 5)):\n",
    "            help_message()\n",
    "            sys.exit()\n",
    "        if (question_number > 3 or question_number < 1 or len(sys.argv) > 5):\n",
    "            print(\"Input parameters out of bound ...\")\n",
    "            sys.exit()\n",
    "\n",
    "    function_launch = {\n",
    "        1: Question1,\n",
    "        2: Question2,\n",
    "        3: Question3,\n",
    "    }\n",
    "\n",
    "    # Call the function\n",
    "    function_launch[1]()"
   ]
  },
  {
   "cell_type": "code",
   "execution_count": 17,
   "metadata": {},
   "outputs": [
    {
     "ename": "ValueError",
     "evalue": "not enough values to unpack (expected 3, got 0)",
     "output_type": "error",
     "traceback": [
      "\u001b[0;31m---------------------------------------------------------------------------\u001b[0m",
      "\u001b[0;31mValueError\u001b[0m                                Traceback (most recent call last)",
      "\u001b[0;32m<ipython-input-17-17d94a2d8837>\u001b[0m in \u001b[0;36m<module>\u001b[0;34m\u001b[0m\n\u001b[0;32m----> 1\u001b[0;31m \u001b[0mQuestion1\u001b[0m\u001b[0;34m(\u001b[0m\u001b[0;34m\"input1.jpg\"\u001b[0m\u001b[0;34m,\u001b[0m\u001b[0;34m\".\"\u001b[0m\u001b[0;34m)\u001b[0m\u001b[0;34m\u001b[0m\u001b[0;34m\u001b[0m\u001b[0m\n\u001b[0m",
      "\u001b[0;32m<ipython-input-16-2dc55ae16f11>\u001b[0m in \u001b[0;36mQuestion1\u001b[0;34m(inp, output)\u001b[0m\n\u001b[1;32m      5\u001b[0m \u001b[0;34m\u001b[0m\u001b[0m\n\u001b[1;32m      6\u001b[0m     \u001b[0;31m# Histogram equalization\u001b[0m\u001b[0;34m\u001b[0m\u001b[0;34m\u001b[0m\u001b[0;34m\u001b[0m\u001b[0m\n\u001b[0;32m----> 7\u001b[0;31m     \u001b[0msucceed\u001b[0m\u001b[0;34m,\u001b[0m \u001b[0moutput_image\u001b[0m \u001b[0;34m=\u001b[0m \u001b[0mhistogram_equalization\u001b[0m\u001b[0;34m(\u001b[0m\u001b[0minput_image\u001b[0m\u001b[0;34m)\u001b[0m\u001b[0;34m\u001b[0m\u001b[0;34m\u001b[0m\u001b[0m\n\u001b[0m\u001b[1;32m      8\u001b[0m \u001b[0;34m\u001b[0m\u001b[0m\n\u001b[1;32m      9\u001b[0m     \u001b[0;31m# Write out the result\u001b[0m\u001b[0;34m\u001b[0m\u001b[0;34m\u001b[0m\u001b[0;34m\u001b[0m\u001b[0m\n",
      "\u001b[0;32m<ipython-input-3-ac7c54fa7678>\u001b[0m in \u001b[0;36mhistogram_equalization\u001b[0;34m(img_in)\u001b[0m\n\u001b[1;32m      2\u001b[0m \u001b[0;34m\u001b[0m\u001b[0m\n\u001b[1;32m      3\u001b[0m     \u001b[0;31m# Write histogram equalization here\u001b[0m\u001b[0;34m\u001b[0m\u001b[0;34m\u001b[0m\u001b[0;34m\u001b[0m\u001b[0m\n\u001b[0;32m----> 4\u001b[0;31m     \u001b[0mb\u001b[0m\u001b[0;34m,\u001b[0m\u001b[0mg\u001b[0m\u001b[0;34m,\u001b[0m\u001b[0mr\u001b[0m \u001b[0;34m=\u001b[0m \u001b[0mcv2\u001b[0m\u001b[0;34m.\u001b[0m\u001b[0msplit\u001b[0m\u001b[0;34m(\u001b[0m\u001b[0mimg_in\u001b[0m\u001b[0;34m)\u001b[0m\u001b[0;34m\u001b[0m\u001b[0;34m\u001b[0m\u001b[0m\n\u001b[0m\u001b[1;32m      5\u001b[0m     \u001b[0mh_b\u001b[0m\u001b[0;34m,\u001b[0m \u001b[0mbin_b\u001b[0m \u001b[0;34m=\u001b[0m \u001b[0mnp\u001b[0m\u001b[0;34m.\u001b[0m\u001b[0mhistogram\u001b[0m\u001b[0;34m(\u001b[0m\u001b[0mb\u001b[0m\u001b[0;34m.\u001b[0m\u001b[0mflatten\u001b[0m\u001b[0;34m(\u001b[0m\u001b[0;34m)\u001b[0m\u001b[0;34m,\u001b[0m \u001b[0;36m256\u001b[0m\u001b[0;34m,\u001b[0m \u001b[0;34m[\u001b[0m\u001b[0;36m0\u001b[0m\u001b[0;34m,\u001b[0m \u001b[0;36m256\u001b[0m\u001b[0;34m]\u001b[0m\u001b[0;34m)\u001b[0m\u001b[0;34m\u001b[0m\u001b[0;34m\u001b[0m\u001b[0m\n\u001b[1;32m      6\u001b[0m     \u001b[0mh_g\u001b[0m\u001b[0;34m,\u001b[0m \u001b[0mbin_g\u001b[0m \u001b[0;34m=\u001b[0m \u001b[0mnp\u001b[0m\u001b[0;34m.\u001b[0m\u001b[0mhistogram\u001b[0m\u001b[0;34m(\u001b[0m\u001b[0mg\u001b[0m\u001b[0;34m.\u001b[0m\u001b[0mflatten\u001b[0m\u001b[0;34m(\u001b[0m\u001b[0;34m)\u001b[0m\u001b[0;34m,\u001b[0m \u001b[0;36m256\u001b[0m\u001b[0;34m,\u001b[0m \u001b[0;34m[\u001b[0m\u001b[0;36m0\u001b[0m\u001b[0;34m,\u001b[0m \u001b[0;36m256\u001b[0m\u001b[0;34m]\u001b[0m\u001b[0;34m)\u001b[0m\u001b[0;34m\u001b[0m\u001b[0;34m\u001b[0m\u001b[0m\n",
      "\u001b[0;31mValueError\u001b[0m: not enough values to unpack (expected 3, got 0)"
     ]
    }
   ],
   "source": [
    "Question1(\"input1.jpg\",\".\")"
   ]
  },
  {
   "cell_type": "code",
   "execution_count": 5,
   "metadata": {},
   "outputs": [
    {
     "data": {
      "text/plain": [
       "True"
      ]
     },
     "execution_count": 5,
     "metadata": {},
     "output_type": "execute_result"
    }
   ],
   "source": [
    "import cv2\n",
    "  \n",
    "originalImage = cv2.imread('HW1Final/input3256.jpeg')\n",
    "grayImage = cv2.cvtColor(originalImage, cv2.COLOR_BGR2GRAY)\n",
    "(thresh, blackAndWhiteImage) = cv2.threshold(grayImage, 127, 255, cv2.THRESH_TOZERO)\n",
    "\n",
    "  \n",
    "cv2.imwrite('blackAndWhiteImage.png', blackAndWhiteImage)\n",
    "cv2.imwrite('grayImage.png', grayImage)\n",
    "\n"
   ]
  },
  {
   "cell_type": "code",
   "execution_count": null,
   "metadata": {},
   "outputs": [],
   "source": []
  }
 ],
 "metadata": {
  "kernelspec": {
   "display_name": "Python 3",
   "language": "python",
   "name": "python3"
  },
  "language_info": {
   "codemirror_mode": {
    "name": "ipython",
    "version": 3
   },
   "file_extension": ".py",
   "mimetype": "text/x-python",
   "name": "python",
   "nbconvert_exporter": "python",
   "pygments_lexer": "ipython3",
   "version": "3.7.5"
  }
 },
 "nbformat": 4,
 "nbformat_minor": 2
}
